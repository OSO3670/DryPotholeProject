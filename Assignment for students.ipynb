{
 "cells": [
  {
   "cell_type": "markdown",
   "id": "aa112b7b",
   "metadata": {},
   "source": [
    "# ASSIGNMENT FOR STUDENTS\n",
    "\n",
    "The water depth of 8 different potholes was obtained daily so as to monitor and accses the closed depression hydrology and their Water Quality. You should plot and visualize the water depth recorded between 22nd May to 29th September, 2020, to know which of the months has the highest for the water depth for each month. Explore different visualization tool\n",
    "\n",
    "Download data from https://github.com/OSO3670/DryPotholeProject/blob/gh-pages/2020%20Pothole%20Time.xlsx"
   ]
  },
  {
   "cell_type": "code",
   "execution_count": null,
   "id": "472ded73",
   "metadata": {},
   "outputs": [],
   "source": [
    "#importing the packages that would be used for the analysis of the dataset.\n",
    "\n",
    "import pandas as pd\n",
    "import numpy as np\n",
    "import matplotlib.pyplot as plt\n",
    "import datetime"
   ]
  },
  {
   "cell_type": "code",
   "execution_count": null,
   "id": "02f9deec",
   "metadata": {},
   "outputs": [],
   "source": [
    "#read in the data set\n",
    "potholes = pd.read_excel(\"your_downloaded_data.xlsx\")"
   ]
  },
  {
   "cell_type": "code",
   "execution_count": null,
   "id": "60f8fc9b",
   "metadata": {},
   "outputs": [],
   "source": [
    "potholes.head()"
   ]
  },
  {
   "cell_type": "code",
   "execution_count": null,
   "id": "304f342d",
   "metadata": {},
   "outputs": [],
   "source": [
    "potholes.dtypes"
   ]
  },
  {
   "cell_type": "markdown",
   "id": "ff28eb31",
   "metadata": {},
   "source": [
    "#### WRANGLING\n",
    "\n",
    "- Check the Uniqueness of the data\n",
    "\n",
    "- Check out the the mean, count and other metrics\n",
    "\n",
    "- Format, structure your data for analysis"
   ]
  },
  {
   "cell_type": "markdown",
   "id": "1e35191c",
   "metadata": {},
   "source": [
    "#### VISUALIZATION\n",
    "\n",
    "- Group the data based on different potholes\n",
    "- Use Pair plot, box plot,  barplot and heat map to access relationship between variables."
   ]
  },
  {
   "cell_type": "code",
   "execution_count": null,
   "id": "1b75ce93",
   "metadata": {},
   "outputs": [],
   "source": []
  },
  {
   "cell_type": "code",
   "execution_count": null,
   "id": "7ec36b1d",
   "metadata": {},
   "outputs": [],
   "source": []
  },
  {
   "cell_type": "code",
   "execution_count": null,
   "id": "1c1ef016",
   "metadata": {},
   "outputs": [],
   "source": []
  },
  {
   "cell_type": "code",
   "execution_count": null,
   "id": "81e353c6",
   "metadata": {},
   "outputs": [],
   "source": [
    "potholes['day'] = potholes['Date'].dt.day\n",
    "potholes['month'] = potholes['Date'].dt.month\n",
    "potholes['year'] = potholes['Date'].dt.year"
   ]
  },
  {
   "cell_type": "code",
   "execution_count": null,
   "id": "b0be41e3",
   "metadata": {},
   "outputs": [],
   "source": [
    "potholes.head()"
   ]
  },
  {
   "cell_type": "code",
   "execution_count": null,
   "id": "2d9ec961",
   "metadata": {},
   "outputs": [],
   "source": [
    "#Dropping other columns so that it is easy to visualize the dataset"
   ]
  },
  {
   "cell_type": "code",
   "execution_count": null,
   "id": "f3e1fe96",
   "metadata": {},
   "outputs": [],
   "source": [
    "newpotholes = potholes.drop (['DATETIME', 'Date', 'Time'], axis = 1)"
   ]
  },
  {
   "cell_type": "code",
   "execution_count": null,
   "id": "77758e88",
   "metadata": {},
   "outputs": [],
   "source": [
    "newpotholes.head()"
   ]
  },
  {
   "cell_type": "code",
   "execution_count": null,
   "id": "d390ae2b",
   "metadata": {},
   "outputs": [],
   "source": [
    "Maypotholes = newpotholes[newpotholes['month'] == 5]"
   ]
  },
  {
   "cell_type": "code",
   "execution_count": null,
   "id": "509fbafc",
   "metadata": {},
   "outputs": [],
   "source": [
    "Maypotholes.________(column='Bunny', by=['day'], rot=90, figsize = ( 10,5), widths =0.3)\n",
    "plt.title('for month of May')\n",
    "plt.xlabel('days')\n",
    "plt.ylabel('Bunny pothole water depth')\n",
    "plt.show()"
   ]
  },
  {
   "cell_type": "markdown",
   "id": "ac716087",
   "metadata": {},
   "source": [
    "#### CONCLUSION\n",
    "\n",
    "- Talk about the result and what you perceive as the relationship between the potholes based on the different days, months and seasons of the year."
   ]
  }
 ],
 "metadata": {
  "kernelspec": {
   "display_name": "Python 3",
   "language": "python",
   "name": "python3"
  },
  "language_info": {
   "codemirror_mode": {
    "name": "ipython",
    "version": 3
   },
   "file_extension": ".py",
   "mimetype": "text/x-python",
   "name": "python",
   "nbconvert_exporter": "python",
   "pygments_lexer": "ipython3",
   "version": "3.8.8"
  }
 },
 "nbformat": 4,
 "nbformat_minor": 5
}
