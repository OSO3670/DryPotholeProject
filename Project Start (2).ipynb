{
 "cells": [
  {
   "cell_type": "markdown",
   "id": "9e2cf09e",
   "metadata": {},
   "source": [
    "# Dry Conditions Potholes\n",
    "\n",
    "Wetlands are areas where water covers the soil or is present either at or near the surface of the soil  all  year  or  for  varying  periods  during  the  year(EPA,2021).  Wetlands  are  crucial  to  nature's survival,  and  Ramsar  Convention  had  described  them  as  lakes,  rivers,  swamps,  floodplains, peatland, mangroves, estuaries, shorelines, coral reefs, marshes. They are crucial in the natural filtration  and  storage  of  water;  they  are  home  to  40%  of  the  world's  plants  and  animals,  one-third  of  all  bird  species  depends  on  wetlands,  two-third  of  fishes  live  there,  they  are  used  in production, they serve as nature's shock absorber, they hold more carbon than all the forest combined and thereby sequester carbon and acts as sediment traps for runoff.\n",
    "\n",
    "These  peculiar  benefits  of  wetlands  are  what  communities  enjoy  with  the  Prairie  potholes, depression wetlands found in the upper Midwest, especially North Dakota, South Dakota, Iowa, and Minnesota. Therefore we need to pay attention to their usage, structure, and water level. There is a shift in the average condition of the weather over time regarded as climate change. Knowing what influences changes in a pothole would be great, especially relative to the climate change of the environment.\n",
    "\n",
    "The pothole project has been explored over the years exploring, the depth of the water and how it influences inundation of land in the area where these potholes are located.This is important because, the level of water in the potholes do have a ripple effect on the how well the crops planted in the region would flourish. Because of the water-logging plants doesn't thrive well. However, How about if we could also check how well this is drying up compared to what it used to be, and modelling the project relative to whether it is dry or wet.\n",
    "\n",
    "The potholes considered for this analysis are Bunny, Wallnut, Mouth, Gravy and Lettuce\n",
    "\n",
    "The weather data used to analyze the project are precipitation, the minimum temperature, mean temperature, maximum temperature, the dewpoint temperature, minimum vapour pressure, maximum vapour pressure, radiation and evaporation. The data is not all year round, it is just limited to 5th month of the year to 10th month of the year on the average.\n",
    "\n",
    "https://nbviewer.org/\n"
   ]
  },
  {
   "cell_type": "markdown",
   "id": "ff8a5a10",
   "metadata": {},
   "source": [
    "# Research Questions\n",
    "- What is the influence of changing climate on the prairie potholes in Iowa using five of them as a case study?\n",
    "\n",
    "- Did any of the climate factors mainly drive the level of pothole's depth?\n",
    "- What changes were observed in the potholes level over the year?\n",
    "- The average dominant dry condition days for all the years in the potholes?"
   ]
  },
  {
   "cell_type": "markdown",
   "id": "81473cd9",
   "metadata": {},
   "source": [
    "# Data Exploration\n",
    "\n",
    "#### To explore the data, we would be importing some pakages and modules that would make it easy for us to analyze the dataset\n",
    "- pandas\n",
    "- numpy\n",
    "- matplotlib\n",
    "- datetime\n",
    "- seaborn"
   ]
  },
  {
   "cell_type": "code",
   "execution_count": null,
   "id": "8b745894",
   "metadata": {},
   "outputs": [],
   "source": [
    "import pandas as pd\n",
    "import numpy as np\n",
    "import matplotlib.pyplot as plt\n",
    "%matplotlib inline\n",
    "import datetime\n",
    "import seaborn as sns"
   ]
  },
  {
   "cell_type": "markdown",
   "id": "df03114e",
   "metadata": {},
   "source": [
    "#### Importing Dataset\n",
    "\n",
    "The csv dataset that would be explored was imported into the jupyter notebook. The dataset to different observations for different days of the year that the data was collected. The pivot in excel was first used to clean the dataset such that we only have the maximum dataset for each of the day represented as the depth of the pothole. In this dataset, for the depth of the potholes, anything zero is taken to be dry, which means there is no water level read by the transducer but this does not necessarily translate into a completely dry condition, the pothole may still be moist, surrounding soils may still be wet as well. But for the purpose of this project, zero would be taken to be dry condition of the potholes and any other values above zero would be taken to be a wet condition of the pothole."
   ]
  },
  {
   "cell_type": "code",
   "execution_count": null,
   "id": "4408da3f",
   "metadata": {},
   "outputs": [],
   "source": [
    "Opholes = pd.read_csv(\"C:/Users/olutuyi/Downloads/Project Pothole ClimateXwetland/pothole and climatic 2.csv\")"
   ]
  },
  {
   "cell_type": "code",
   "execution_count": null,
   "id": "2bae30ab",
   "metadata": {},
   "outputs": [],
   "source": [
    "print (Opholes)"
   ]
  },
  {
   "cell_type": "code",
   "execution_count": null,
   "id": "85b7585a",
   "metadata": {},
   "outputs": [],
   "source": [
    "Opholes.info()"
   ]
  },
  {
   "cell_type": "code",
   "execution_count": null,
   "id": "ca3dbc7f",
   "metadata": {},
   "outputs": [],
   "source": [
    "Opholes.columns"
   ]
  },
  {
   "cell_type": "code",
   "execution_count": null,
   "id": "49c7f869",
   "metadata": {},
   "outputs": [],
   "source": [
    "Opholes.describe(include ='all')"
   ]
  },
  {
   "cell_type": "markdown",
   "id": "4d82503f",
   "metadata": {},
   "source": [
    "##### Changing Date Data type\n",
    "\n",
    "Changing the date to a datetime columns format, so that it would make it easy to analyze the index and explore it."
   ]
  },
  {
   "cell_type": "code",
   "execution_count": null,
   "id": "92ef2689",
   "metadata": {},
   "outputs": [],
   "source": [
    "Opholes['Date'] = pd.to_datetime(Opholes['Date'])"
   ]
  },
  {
   "cell_type": "code",
   "execution_count": null,
   "id": "a1793e28",
   "metadata": {},
   "outputs": [],
   "source": [
    "Opholes.dtypes"
   ]
  },
  {
   "cell_type": "code",
   "execution_count": null,
   "id": "689f6f0b",
   "metadata": {},
   "outputs": [],
   "source": [
    "Opholes = Opholes.set_index('Date')\n",
    "Opholes.head(3)"
   ]
  },
  {
   "cell_type": "code",
   "execution_count": null,
   "id": "8b70e31b",
   "metadata": {},
   "outputs": [],
   "source": [
    "Opholes.index"
   ]
  },
  {
   "cell_type": "code",
   "execution_count": null,
   "id": "e82f8156",
   "metadata": {},
   "outputs": [],
   "source": [
    "dpholes = pd.read_csv(\"C:/Users/olutuyi/Downloads/Project Pothole ClimateXwetland/pothole and climatic 2.csv\", index_col=0, parse_dates=True)"
   ]
  },
  {
   "cell_type": "code",
   "execution_count": null,
   "id": "fe3a3702",
   "metadata": {},
   "outputs": [],
   "source": [
    "dpholes['Year'] = dpholes.index.year\n",
    "dpholes['Month'] = dpholes.index.month\n",
    "dpholes['Day'] = dpholes.index.day\n",
    "dpholes.sample(5, random_state=0)"
   ]
  },
  {
   "cell_type": "markdown",
   "id": "0a100190",
   "metadata": {},
   "source": [
    "##### Replacing the NA with Mean\n",
    "To ensure accurate result for the data, there were some missing values, and I replaced all the missing value with the mean of the dataset for each column."
   ]
  },
  {
   "cell_type": "code",
   "execution_count": null,
   "id": "2d30cc30",
   "metadata": {},
   "outputs": [],
   "source": [
    "Npholes = dpholes.fillna(dpholes.mean())"
   ]
  },
  {
   "cell_type": "code",
   "execution_count": null,
   "id": "a304762b",
   "metadata": {},
   "outputs": [],
   "source": [
    "Npholes.describe(include ='all')"
   ]
  },
  {
   "cell_type": "markdown",
   "id": "65a5f993",
   "metadata": {},
   "source": [
    "# Visualization\n",
    "\n",
    "\n",
    "##### Visualization of the dataset using Barplot\n",
    "\n",
    "In quest to explore the dataset, I visualized the potholes(Bunny, Wallnut, Mouth, Gravy, Lettuce) depth on a yearly basis.The Bunny showed that only the datasest for 2020 was very high relative to the other years, for other years most especially 2017 and 2018, the dataset output are scanty. From this trend, I would conclude for the Bunny, that it is increasing over the year. This was a repitive trend for Wallnut. But for the Mouth and Gravy, reverse was the case, because the year 2018 showed higher level of water depth compared to other years, 2019 and 2017 also had some level of water but for 2020, it was low for Mouth pothole why for the Gravy pothole, 2018 was the highest, followed by the 2020 and 2018 as well, but the 2016 and 2017 just had relatively low amount of water depth. 2020 was the highest for lettuce followed by 2018 and 2019, there were some level of water depth in 2016 while the 2017 had no visible amount of water."
   ]
  },
  {
   "cell_type": "code",
   "execution_count": null,
   "id": "2f329893",
   "metadata": {},
   "outputs": [],
   "source": [
    "sns.set_style(\"ticks\")"
   ]
  },
  {
   "cell_type": "code",
   "execution_count": null,
   "id": "1fbffc25",
   "metadata": {},
   "outputs": [],
   "source": [
    "sns.barplot(x='Year', y='Bunny', data=Npholes, color='red')"
   ]
  },
  {
   "cell_type": "code",
   "execution_count": null,
   "id": "adeca5e3",
   "metadata": {},
   "outputs": [],
   "source": [
    "sns.barplot(x='Year', y='Wallnut', data=Npholes, color='blue')"
   ]
  },
  {
   "cell_type": "code",
   "execution_count": null,
   "id": "000e33e2",
   "metadata": {},
   "outputs": [],
   "source": [
    "sns.barplot(x='Year', y='Mouth', data=Npholes, color='purple')"
   ]
  },
  {
   "cell_type": "code",
   "execution_count": null,
   "id": "704127cf",
   "metadata": {},
   "outputs": [],
   "source": [
    "sns.barplot(x='Year', y='Gravy', data=Npholes, color='Magenta')"
   ]
  },
  {
   "cell_type": "code",
   "execution_count": null,
   "id": "f25d95f5",
   "metadata": {},
   "outputs": [],
   "source": [
    "sns.barplot(x='Year', y='Lettuce', data=Npholes, color='Green')"
   ]
  },
  {
   "cell_type": "markdown",
   "id": "5e749114",
   "metadata": {},
   "source": [
    "##### Visualization of the dataset using plot showing trends for the months\n",
    "\n",
    "\n",
    "###### For Bunny\n",
    "\n",
    "- 2016: This showed that the highest level of water depth was in october, while it had a rise for the month of may, this didn't progress\n",
    "    into september\n",
    "\n",
    "- 2017: This showed some level of increment in May, while from June to October, it was just zero level of water in the pothole\n",
    "- 2018: For this year there was no water in the pothole just as it has been indicated by the bar chart\n",
    "- 2019: This showed some level increment between june and july, september had a short rise while October also experienced a sharp rise.\n",
    "- 2020: This showed there was only significant rise in may, which was an outlier, it was higher than what is obtainable on the average.\n",
    "\n",
    "- Other visualization for Wallnut, Lettuce, Gravy, and Mouth all showed the same trend as had been showed by the bar chart earlier."
   ]
  },
  {
   "cell_type": "code",
   "execution_count": null,
   "id": "79c3b3e5",
   "metadata": {},
   "outputs": [],
   "source": [
    "ax = dpholes.loc['2016', 'Bunny'].plot()\n",
    "ax.set_ylabel('2016 water level');"
   ]
  },
  {
   "cell_type": "code",
   "execution_count": null,
   "id": "f0a4e325",
   "metadata": {},
   "outputs": [],
   "source": [
    "ax = dpholes.loc['2017', 'Bunny'].plot()\n",
    "ax.set_ylabel('2017 water level');"
   ]
  },
  {
   "cell_type": "code",
   "execution_count": null,
   "id": "d7eb1f32",
   "metadata": {},
   "outputs": [],
   "source": [
    "ax = dpholes.loc['2018', 'Bunny'].plot()\n",
    "ax.set_ylabel('2018 water level');"
   ]
  },
  {
   "cell_type": "code",
   "execution_count": null,
   "id": "db5981ee",
   "metadata": {},
   "outputs": [],
   "source": [
    "ax = dpholes.loc['2019', 'Bunny'].plot()\n",
    "ax.set_ylabel('2019 water level');"
   ]
  },
  {
   "cell_type": "code",
   "execution_count": null,
   "id": "753fe34f",
   "metadata": {},
   "outputs": [],
   "source": [
    "ax = dpholes.loc['2020', 'Bunny'].plot()\n",
    "ax.set_ylabel('2020 water level');"
   ]
  },
  {
   "cell_type": "code",
   "execution_count": null,
   "id": "69bf8ab0",
   "metadata": {},
   "outputs": [],
   "source": [
    "ax = dpholes.loc['2016':'2020', 'Bunny'].plot()\n",
    "ax.set_ylabel('trend water level');"
   ]
  },
  {
   "cell_type": "code",
   "execution_count": null,
   "id": "698d9c22",
   "metadata": {},
   "outputs": [],
   "source": [
    "ax = dpholes.loc['2016':'2020', 'Wallnut'].plot()\n",
    "ax.set_ylabel('trend water level');"
   ]
  },
  {
   "cell_type": "code",
   "execution_count": null,
   "id": "aaaca9e7",
   "metadata": {},
   "outputs": [],
   "source": [
    "ax = dpholes.loc['2016':'2020', 'Mouth'].plot()\n",
    "ax.set_ylabel('trend water level');"
   ]
  },
  {
   "cell_type": "code",
   "execution_count": null,
   "id": "cf06d108",
   "metadata": {},
   "outputs": [],
   "source": [
    "ax = dpholes.loc['2016':'2020', 'Gravy'].plot()\n",
    "ax.set_ylabel('trend water level');"
   ]
  },
  {
   "cell_type": "code",
   "execution_count": null,
   "id": "33ad4224",
   "metadata": {},
   "outputs": [],
   "source": [
    "ax = dpholes.loc['2016':'2020', 'Lettuce'].plot()\n",
    "ax.set_ylabel('trend water level');"
   ]
  },
  {
   "cell_type": "markdown",
   "id": "a960a5c1",
   "metadata": {},
   "source": [
    "##### Visualization of the dataset using considering the precipitation for the 5 years - period\n",
    "\n",
    "\n",
    "###### For Precipitation\n",
    "\n",
    "- This showed seasonality, rise in the precipitation at certain time of the year and going down at some other time, the 2020, that showed higher pothole water depth for Bunny, Wallnut, Gravy and Lettuce, didn't have the highest level of precipitation, in time range, the data was sampled. \n",
    "\n",
    "\n",
    "###### For temperature\n",
    "\n",
    "- This showed seasonality, there were no palpable difference in the rise and fall of the of temperature accross the year.\n",
    "\n",
    "- This was the same case recorded with radiation, evaporation, and vapour pressure."
   ]
  },
  {
   "cell_type": "code",
   "execution_count": null,
   "id": "2dee8a98",
   "metadata": {},
   "outputs": [],
   "source": [
    "sns.set(rc={'figure.figsize':(11, 4)})\n",
    "Npholes['ppt'].plot(linewidth=0.5);"
   ]
  },
  {
   "cell_type": "code",
   "execution_count": null,
   "id": "cc110cc8",
   "metadata": {},
   "outputs": [],
   "source": [
    "sns.set(rc={'figure.figsize':(11, 4)})\n",
    "Npholes['tmean'].plot(linewidth=0.5);"
   ]
  },
  {
   "cell_type": "code",
   "execution_count": null,
   "id": "987a581b",
   "metadata": {},
   "outputs": [],
   "source": [
    "sns.set(rc={'figure.figsize':(11, 4)})\n",
    "Npholes['rad'].plot(linewidth=0.5);"
   ]
  },
  {
   "cell_type": "code",
   "execution_count": null,
   "id": "dcb049e7",
   "metadata": {},
   "outputs": [],
   "source": [
    "sns.set(rc={'figure.figsize':(11, 4)})\n",
    "Npholes['evap'].plot(linewidth=0.5);"
   ]
  },
  {
   "cell_type": "code",
   "execution_count": null,
   "id": "35dd4ac7",
   "metadata": {},
   "outputs": [],
   "source": [
    "sns.set(rc={'figure.figsize':(11, 4)})\n",
    "Npholes['vpdmax'].plot(linewidth=0.5);"
   ]
  },
  {
   "cell_type": "code",
   "execution_count": null,
   "id": "ca67b8fe",
   "metadata": {},
   "outputs": [],
   "source": [
    "sns.set(rc={'figure.figsize':(11, 4)})\n",
    "Npholes['vpdmin'].plot(linewidth=0.5);"
   ]
  },
  {
   "cell_type": "code",
   "execution_count": null,
   "id": "d38b9158",
   "metadata": {
    "scrolled": true
   },
   "outputs": [],
   "source": [
    "from pandas_profiling import ProfileReport\n",
    "Npholes.profile_report()"
   ]
  },
  {
   "cell_type": "markdown",
   "id": "dcdee826",
   "metadata": {},
   "source": [
    "# CORRELATION\n",
    "\n",
    "In order to check the strength of the relationship between the each of the column variables in the dataset, I used the correlation function, the result didn't show linearity for most of the data variables, those that had some level of relation are the temperature family(tmean, tmax, tmin), this in a way is also related to radiation, vapour pressure. Another important highlights are the water depths, they all had some level of similarity, of course because, most of the output for water depth are within a particular threshold. The major focus is our climatic condition to the pothole water depth, but there were no visible relationship between them."
   ]
  },
  {
   "cell_type": "code",
   "execution_count": null,
   "id": "50db8df6",
   "metadata": {},
   "outputs": [],
   "source": [
    "import plotly.express as px\n",
    "fig = px.imshow(Npholes.corr())\n",
    "fig.show()"
   ]
  },
  {
   "cell_type": "code",
   "execution_count": null,
   "id": "55019c48",
   "metadata": {
    "scrolled": false
   },
   "outputs": [],
   "source": [
    "grouped_data_type = Npholes.groupby(\"Year\").sum().reset_index().sort_values(['Bunny'], ascending=False)\n",
    "\n",
    "plt.figure(figsize=(15,6))\n",
    "sns.barplot(x=\"Year\", y=\"Bunny\", data=grouped_data_type)\n",
    "plt.xticks(rotation=90)\n",
    "plt.show()"
   ]
  },
  {
   "cell_type": "code",
   "execution_count": null,
   "id": "bde6f467",
   "metadata": {},
   "outputs": [],
   "source": [
    "grouped_data_type = Npholes.groupby(\"Year\").sum().reset_index().sort_values(['Wallnut'], ascending=False)\n",
    "\n",
    "plt.figure(figsize=(15,6))\n",
    "sns.barplot(x=\"Year\", y=\"Wallnut\", data=grouped_data_type)\n",
    "plt.xticks(rotation=90)\n",
    "plt.show()"
   ]
  },
  {
   "cell_type": "code",
   "execution_count": null,
   "id": "38d8d0b8",
   "metadata": {},
   "outputs": [],
   "source": [
    "grouped_data_type = Npholes.groupby(\"Year\").sum().reset_index().sort_values(['Mouth'], ascending=False)\n",
    "\n",
    "plt.figure(figsize=(15,6))\n",
    "sns.barplot(x=\"Year\", y=\"Mouth\", data=grouped_data_type)\n",
    "plt.xticks(rotation=90)\n",
    "plt.show()"
   ]
  },
  {
   "cell_type": "code",
   "execution_count": null,
   "id": "94115ef0",
   "metadata": {},
   "outputs": [],
   "source": [
    "grouped_data_type = Npholes.groupby(\"Year\").sum().reset_index().sort_values(['Gravy'], ascending=False)\n",
    "\n",
    "plt.figure(figsize=(15,6))\n",
    "sns.barplot(x=\"Year\", y=\"Gravy\", data=grouped_data_type)\n",
    "plt.xticks(rotation=90)\n",
    "plt.show()"
   ]
  },
  {
   "cell_type": "code",
   "execution_count": null,
   "id": "082f68dc",
   "metadata": {},
   "outputs": [],
   "source": [
    "grouped_data_type = Npholes.groupby(\"Year\").sum().reset_index().sort_values(['Lettuce'], ascending=False)\n",
    "\n",
    "plt.figure(figsize=(15,6))\n",
    "sns.barplot(x=\"Year\", y=\"Lettuce\", data=grouped_data_type)\n",
    "plt.xticks(rotation=90)\n",
    "plt.show()"
   ]
  },
  {
   "cell_type": "code",
   "execution_count": null,
   "id": "84a98cc3",
   "metadata": {},
   "outputs": [],
   "source": [
    "plt.figure(figsize=(15,6))\n",
    "sns.lineplot(x=\"Year\", y= \"Bunny\",data=Npholes)\n",
    "plt.xticks(rotation=90)\n",
    "plt.show()"
   ]
  },
  {
   "cell_type": "code",
   "execution_count": null,
   "id": "93d58acb",
   "metadata": {},
   "outputs": [],
   "source": [
    "plt.figure(figsize=(15,6))\n",
    "sns.lineplot(x=\"Year\", y= \"Wallnut\",data=Npholes)\n",
    "plt.xticks(rotation=90)\n",
    "plt.show()"
   ]
  },
  {
   "cell_type": "code",
   "execution_count": null,
   "id": "b10d64cc",
   "metadata": {},
   "outputs": [],
   "source": [
    "plt.figure(figsize=(15,6))\n",
    "sns.lineplot(x=\"Year\", y= \"Mouth\",data=Npholes)\n",
    "plt.xticks(rotation=90)\n",
    "plt.show()"
   ]
  },
  {
   "cell_type": "code",
   "execution_count": null,
   "id": "50114d92",
   "metadata": {},
   "outputs": [],
   "source": [
    "plt.figure(figsize=(15,6))\n",
    "sns.lineplot(x=\"Year\", y= \"Gravy\",data=Npholes)\n",
    "plt.xticks(rotation=90)\n",
    "plt.show()"
   ]
  },
  {
   "cell_type": "code",
   "execution_count": null,
   "id": "19bee372",
   "metadata": {},
   "outputs": [],
   "source": [
    "plt.figure(figsize=(15,6))\n",
    "sns.lineplot(x=\"Year\", y= \"Lettuce\",data=Npholes)\n",
    "plt.xticks(rotation=90)\n",
    "plt.show()"
   ]
  },
  {
   "cell_type": "markdown",
   "id": "d8d3407c",
   "metadata": {},
   "source": [
    "### Relationship Between Potholes and the Climatic Parameter\n",
    "\n",
    "For each of the Potholes(Bunny, Wallnut, Gravy, Mouth and Lettuce), I established a relationship between each of the pothole water depth and the climatic factor, this helped to view the reality of the output that was derived for the correlation plot, the output was the accross all the potholes."
   ]
  },
  {
   "cell_type": "code",
   "execution_count": null,
   "id": "9685d9dc",
   "metadata": {
    "scrolled": true
   },
   "outputs": [],
   "source": [
    "cols_plot = ['Bunny','rad', 'ppt', 'evap','tmin','tmax','vpdmax','vpdmin']\n",
    "axes = Npholes[cols_plot].plot(marker='.', alpha=0.5, linestyle='None', figsize=(11, 9), subplots=True)\n",
    "for ax in axes:\n",
    "    ax.set_ylabel('Level')"
   ]
  },
  {
   "cell_type": "code",
   "execution_count": null,
   "id": "a171c8ea",
   "metadata": {},
   "outputs": [],
   "source": [
    "cols_plot = ['Wallnut','rad', 'ppt', 'evap','tmin','tmax','vpdmax','vpdmin']\n",
    "axes = Npholes[cols_plot].plot(marker='.', alpha=0.5, linestyle='None', figsize=(11, 9), subplots=True)\n",
    "for ax in axes:\n",
    "    ax.set_ylabel('Level')"
   ]
  },
  {
   "cell_type": "code",
   "execution_count": null,
   "id": "6d5ab162",
   "metadata": {},
   "outputs": [],
   "source": [
    "cols_plot = ['Mouth','rad', 'ppt', 'evap','tmin','tmax','vpdmax','vpdmin']\n",
    "axes = Npholes[cols_plot].plot(marker='.', alpha=0.5, linestyle='None', figsize=(11, 9), subplots=True)\n",
    "for ax in axes:\n",
    "    ax.set_ylabel('Level')"
   ]
  },
  {
   "cell_type": "code",
   "execution_count": null,
   "id": "1d6b6746",
   "metadata": {},
   "outputs": [],
   "source": [
    "cols_plot = ['Gravy','rad', 'ppt', 'evap','tmin','tmax','vpdmax','vpdmin']\n",
    "axes = Npholes[cols_plot].plot(marker='.', alpha=0.5, linestyle='None', figsize=(11, 9), subplots=True)\n",
    "for ax in axes:\n",
    "    ax.set_ylabel('Level')"
   ]
  },
  {
   "cell_type": "code",
   "execution_count": null,
   "id": "d2dd6671",
   "metadata": {},
   "outputs": [],
   "source": [
    "cols_plot = ['Lettuce','rad', 'ppt', 'evap','tmin','tmax','vpdmax','vpdmin']\n",
    "axes = Npholes[cols_plot].plot(marker='.', alpha=0.5, linestyle='None', figsize=(11, 9), subplots=True)\n",
    "for ax in axes:\n",
    "    ax.set_ylabel('Level')"
   ]
  },
  {
   "cell_type": "code",
   "execution_count": null,
   "id": "bbd3e7d3",
   "metadata": {},
   "outputs": [],
   "source": [
    "p = sns.lmplot(x='Bunny',y='ppt', data=Npholes, hue ='Year',fit_reg=False, legend = True)"
   ]
  },
  {
   "cell_type": "code",
   "execution_count": null,
   "id": "1ee267a3",
   "metadata": {},
   "outputs": [],
   "source": [
    "pp = sns.pairplot(data=Npholes,\n",
    "                  y_vars=['Mouth'],\n",
    "                  x_vars=['ppt','tmean','evap'], hue ='Year')\n",
    "\n",
    "pp.axes[0,2].set_xlim((0,1))\n",
    "pp.axes[0,1].set_xlim((0,1))\n",
    "pp.axes[0,0].set_xlim((0,1))"
   ]
  },
  {
   "cell_type": "code",
   "execution_count": null,
   "id": "acec189e",
   "metadata": {},
   "outputs": [],
   "source": [
    "Apholes = Npholes.copy()"
   ]
  },
  {
   "cell_type": "code",
   "execution_count": null,
   "id": "0de79349",
   "metadata": {},
   "outputs": [],
   "source": [
    "Apholes"
   ]
  },
  {
   "cell_type": "markdown",
   "id": "5e20e20f",
   "metadata": {},
   "source": [
    "# LINEAR REGRESSION.\n",
    "\n",
    "On the dataset, tried out linear regression on it, but the output of the model was poor. Most of the R-squared, adjusted R-squared are all very low, check out their p-value and noticed only evaparation had value lower than the acceptable value of 0.05, precipitation had a closer range value, even though higher, so I reduced the independent / predictors variable but that didn't make any difference for the output of the model because I was still getting a poor model, I concluded Linear regression may not be the best and that it may come out good with other model. "
   ]
  },
  {
   "cell_type": "code",
   "execution_count": null,
   "id": "4477a413",
   "metadata": {},
   "outputs": [],
   "source": [
    "Apholes.shape"
   ]
  },
  {
   "cell_type": "code",
   "execution_count": null,
   "id": "d4c203ea",
   "metadata": {},
   "outputs": [],
   "source": [
    "Anyx = Apholes.drop(['Bunny','Wallnut','Mouth','Gravy','Lettuce','Year','Month','Day'], axis = 1)"
   ]
  },
  {
   "cell_type": "code",
   "execution_count": null,
   "id": "a27cb2c6",
   "metadata": {},
   "outputs": [],
   "source": [
    "Anyx.shape"
   ]
  },
  {
   "cell_type": "code",
   "execution_count": null,
   "id": "4c982348",
   "metadata": {},
   "outputs": [],
   "source": [
    "BunnyY = Apholes['Bunny']"
   ]
  },
  {
   "cell_type": "code",
   "execution_count": null,
   "id": "81a596fd",
   "metadata": {},
   "outputs": [],
   "source": [
    "BunnyY.shape"
   ]
  },
  {
   "cell_type": "code",
   "execution_count": null,
   "id": "74fbb530",
   "metadata": {},
   "outputs": [],
   "source": [
    "from sklearn.linear_model import LinearRegression\n",
    "import statsmodels.formula.api as smf"
   ]
  },
  {
   "cell_type": "code",
   "execution_count": null,
   "id": "bec63488",
   "metadata": {},
   "outputs": [],
   "source": [
    "def lireg(y):\n",
    "    model = LinearRegression(fit_intercept=True)\n",
    "    model.fit(Anyx, y)\n",
    "    model = smf.ols(formula='y~ ppt+tmin+tmean+tmax+tdmean+vpdmin+vpdmax+rad+evap', data=Apholes).fit()\n",
    "    model.params\n",
    "    summary = model.summary()\n",
    "    print(summary)"
   ]
  },
  {
   "cell_type": "code",
   "execution_count": null,
   "id": "c8201d5a",
   "metadata": {},
   "outputs": [],
   "source": [
    "lireg(BunnyY)"
   ]
  },
  {
   "cell_type": "code",
   "execution_count": null,
   "id": "75ffb0fc",
   "metadata": {},
   "outputs": [],
   "source": [
    "WallnutY = Apholes['Wallnut']\n",
    "MouthY = Apholes['Mouth']\n",
    "GravyY = Apholes['Gravy']\n",
    "LettuceY = Apholes['Lettuce']"
   ]
  },
  {
   "cell_type": "code",
   "execution_count": null,
   "id": "19c738ba",
   "metadata": {},
   "outputs": [],
   "source": [
    "lireg(WallnutY)"
   ]
  },
  {
   "cell_type": "code",
   "execution_count": null,
   "id": "07dcb3f1",
   "metadata": {},
   "outputs": [],
   "source": [
    "lireg(MouthY)"
   ]
  },
  {
   "cell_type": "code",
   "execution_count": null,
   "id": "9c5d1b83",
   "metadata": {},
   "outputs": [],
   "source": [
    "lireg(GravyY)"
   ]
  },
  {
   "cell_type": "code",
   "execution_count": null,
   "id": "901e3652",
   "metadata": {},
   "outputs": [],
   "source": [
    "lireg(LettuceY)"
   ]
  },
  {
   "cell_type": "code",
   "execution_count": null,
   "id": "67c9b806",
   "metadata": {},
   "outputs": [],
   "source": [
    "d = {'potholes': ['Bunny','Wallnut','Mouth','Gravy','Lettuce'],'R-Squared': [0.022,0.023,0.028,0.011,0.015],'F-Statistics': [1.965,1.99,2.46,0.907,1.359]}\n",
    "LR = pd.DataFrame(data=d)\n",
    "LR"
   ]
  },
  {
   "cell_type": "code",
   "execution_count": null,
   "id": "76d8c0a4",
   "metadata": {},
   "outputs": [],
   "source": [
    "sns.set_style(\"ticks\")\n",
    "sns.barplot(x='potholes', y='R-Squared', data=LR, color='blue')"
   ]
  },
  {
   "cell_type": "code",
   "execution_count": null,
   "id": "8bcb11cb",
   "metadata": {},
   "outputs": [],
   "source": [
    "sns.set_style(\"ticks\")\n",
    "sns.barplot(x='potholes', y='F-Statistics', data=LR, color='red')"
   ]
  },
  {
   "cell_type": "code",
   "execution_count": null,
   "id": "6b71d382",
   "metadata": {},
   "outputs": [],
   "source": [
    "sns.pairplot(LR)"
   ]
  },
  {
   "cell_type": "code",
   "execution_count": null,
   "id": "b1e042b7",
   "metadata": {},
   "outputs": [],
   "source": [
    "Anyx = Apholes.drop(['Bunny','Wallnut','Mouth','Gravy','Lettuce','Year','Month','Day','tmin','tmean','tmax','tdmean','vpdmin','vpdmax','rad'], axis = 1)"
   ]
  },
  {
   "cell_type": "code",
   "execution_count": null,
   "id": "265988db",
   "metadata": {},
   "outputs": [],
   "source": [
    "def lireg2(y):\n",
    "    model = LinearRegression(fit_intercept=True)\n",
    "    model.fit(Anyx, y)\n",
    "    model = smf.ols(formula='y~ ppt+evap', data=Apholes).fit()\n",
    "    model.params\n",
    "    summary = model.summary()\n",
    "    print(summary)"
   ]
  },
  {
   "cell_type": "code",
   "execution_count": null,
   "id": "0d1d0bbc",
   "metadata": {},
   "outputs": [],
   "source": [
    "lireg2(BunnyY)"
   ]
  },
  {
   "cell_type": "code",
   "execution_count": null,
   "id": "35af162d",
   "metadata": {},
   "outputs": [],
   "source": [
    "Npholes"
   ]
  },
  {
   "cell_type": "code",
   "execution_count": null,
   "id": "c31d4ab1",
   "metadata": {},
   "outputs": [],
   "source": [
    "Npholes['Bunny'] = pd.cut(Npholes.Bunny, bins=[-2, 0,50], labels =['Dry','Wet'])"
   ]
  },
  {
   "cell_type": "code",
   "execution_count": null,
   "id": "ec78526a",
   "metadata": {},
   "outputs": [],
   "source": [
    "Npholes['Mouth'] = pd.cut(Npholes.Mouth, bins=[-2, 0,50], labels =['Dry','Wet'])"
   ]
  },
  {
   "cell_type": "code",
   "execution_count": null,
   "id": "efcfd1b0",
   "metadata": {},
   "outputs": [],
   "source": [
    "Npholes['Lettuce'] = pd.cut(Npholes.Lettuce, bins=[-2, 0,50], labels =['Dry','Wet'])"
   ]
  },
  {
   "cell_type": "code",
   "execution_count": null,
   "id": "451cd75a",
   "metadata": {},
   "outputs": [],
   "source": [
    "Npholes['Gravy'] = pd.cut(Npholes.Gravy, bins=[-2, 0,50], labels =['Dry','Wet'])"
   ]
  },
  {
   "cell_type": "code",
   "execution_count": null,
   "id": "41e43576",
   "metadata": {},
   "outputs": [],
   "source": [
    "Npholes['Wallnut'] = pd.cut(Npholes.Wallnut, bins=[-2, 0,50], labels =['Dry','Wet'])"
   ]
  },
  {
   "cell_type": "code",
   "execution_count": null,
   "id": "3a2ebe62",
   "metadata": {},
   "outputs": [],
   "source": [
    "Npholes.head()"
   ]
  },
  {
   "cell_type": "code",
   "execution_count": null,
   "id": "5681ca7a",
   "metadata": {},
   "outputs": [],
   "source": [
    "p = sns.lmplot(x='tmax',y='tmin', data=Npholes, hue ='Bunny',fit_reg=False, legend = True)"
   ]
  },
  {
   "cell_type": "code",
   "execution_count": null,
   "id": "2033a226",
   "metadata": {},
   "outputs": [],
   "source": [
    "p = sns.lmplot(x='tmax',y='tmin', data=Npholes, hue ='Wallnut',fit_reg=False, legend = True)"
   ]
  },
  {
   "cell_type": "code",
   "execution_count": null,
   "id": "44817a09",
   "metadata": {},
   "outputs": [],
   "source": [
    "p = sns.lmplot(x='tmax',y='tmin', data=Npholes, hue ='Gravy',fit_reg=False, legend = True)"
   ]
  },
  {
   "cell_type": "code",
   "execution_count": null,
   "id": "84bfe320",
   "metadata": {},
   "outputs": [],
   "source": [
    "p = sns.lmplot(x='tmax',y='tmin', data=Npholes, hue ='Mouth',fit_reg=False, legend = True)"
   ]
  },
  {
   "cell_type": "code",
   "execution_count": null,
   "id": "156229df",
   "metadata": {},
   "outputs": [],
   "source": [
    "p = sns.lmplot(x='tmax',y='tmin', data=Npholes, hue ='Lettuce',fit_reg=False, legend = True)"
   ]
  },
  {
   "cell_type": "markdown",
   "id": "dc1049f3",
   "metadata": {},
   "source": [
    "### Observation: \n",
    "\n",
    "The lower of part of the chart where there is low maximum temperature and low minimum temperature shows more dryness, but this cannot be fully justified as this data is not all year round, it is between May and October in many of the cases. This is not the case for the Lettuce Potholes."
   ]
  },
  {
   "cell_type": "markdown",
   "id": "18025e6c",
   "metadata": {},
   "source": [
    "#### COUNTS FOR THE POTHOLES\n",
    "\n",
    "For each of the potholes, I checked out the level of water depth data available for both dry and wet in all the cases. Dry condition in the light of this research does not translate into complete dryness of pothole, in many cases there are still moisture in the pothole but for the purpose of this work, we are taking pothole with zero water depth to be dry and other values to be wet."
   ]
  },
  {
   "cell_type": "code",
   "execution_count": null,
   "id": "fb737e39",
   "metadata": {
    "scrolled": true
   },
   "outputs": [],
   "source": [
    "sns.countplot(Npholes['Bunny'])"
   ]
  },
  {
   "cell_type": "code",
   "execution_count": null,
   "id": "df68aa30",
   "metadata": {},
   "outputs": [],
   "source": [
    "sns.countplot(Npholes['Wallnut'])"
   ]
  },
  {
   "cell_type": "code",
   "execution_count": null,
   "id": "efec9057",
   "metadata": {},
   "outputs": [],
   "source": [
    "sns.countplot(Npholes['Gravy'])"
   ]
  },
  {
   "cell_type": "code",
   "execution_count": null,
   "id": "2c8b246b",
   "metadata": {},
   "outputs": [],
   "source": [
    "sns.countplot(Npholes['Lettuce'])"
   ]
  },
  {
   "cell_type": "code",
   "execution_count": null,
   "id": "7d1b5212",
   "metadata": {},
   "outputs": [],
   "source": [
    "sns.countplot(Npholes['Mouth'])"
   ]
  },
  {
   "cell_type": "code",
   "execution_count": null,
   "id": "6366fea5",
   "metadata": {
    "scrolled": true
   },
   "outputs": [],
   "source": [
    "pp = sns.pairplot(data=Npholes,\n",
    "                  y_vars=['tmean'],\n",
    "                  x_vars=['ppt','tmax','rad','tmin','evap'], hue ='Bunny')\n",
    "\n",
    "pp = sns.pairplot(data=Npholes,\n",
    "                  y_vars=['tmean'],\n",
    "                  x_vars=['ppt','tmax','rad','tmin','evap'], hue ='Wallnut')\n",
    "\n",
    "\n",
    "pp = sns.pairplot(data=Npholes,\n",
    "                  y_vars=['tmean'],\n",
    "                  x_vars=['ppt','tmax','rad','tmin','evap'], hue ='Mouth')\n",
    "\n",
    "pp = sns.pairplot(data=Npholes,\n",
    "                  y_vars=['tmean'],\n",
    "                  x_vars=['ppt','tmax','rad','tmin','evap'], hue ='Gravy')\n",
    "\n",
    "pp = sns.pairplot(data=Npholes,\n",
    "                  y_vars=['tmean'],\n",
    "                  x_vars=['ppt','tmax','rad','tmin','evap'], hue ='Lettuce')\n"
   ]
  },
  {
   "cell_type": "markdown",
   "id": "6b0c8b54",
   "metadata": {},
   "source": [
    "# Boxplot\n",
    "\n",
    "The box plot gave an insight into each of the climatic factors in comparison to the potholes.\n",
    "\n",
    "- Bunny Potholes:\n",
    "\n",
    "For the precipitation, there were more wet condition relative to high precipitation which shows that in a way that they influence wet and dry condition, for both tmax and tmin, they had higher dry conditions, though, it showed relatively small difference when the output was critically examined, the evaporation is tilting towards drying, this is true because the higher the evaporation, the higher the tendency of potholes to dry.\n",
    "\n",
    "- Wallnut and Gravy Potholes:\n",
    "\n",
    "For Wallnut, the wet conditions was higher with higher precipitation but there was a disparity in what is obtainable for the tmax and the tmin, where the wet seems higher for increasing temperture, this was also the case for the Gravy potholes, as the temperature was increasing, there were more wet condition, this I would say it is based on how much of data it was fed with and the time of the year this datas were collected.\n",
    "\n",
    "- Mouth\n",
    "\n",
    "For the Mouth potholes, the precipitation increased and the wet conditions also showing higher representation, as the tmin and tmax increased there was more dry conditions, this was the same case with both the radiation and the evaporation, with increasing radiation and evaporation, there was an increasing representation of the dry condition.\n",
    "\n",
    "- Lettuce\n",
    "\n",
    "For the Lettuce potholes, the precipitation increased, as did the representation of wet conditions; as the tmin and tmax increased, so did the representation of dry conditions; this was also true for radiation and evaporation; as radiation and evaporation increased, so did the representation of dry conditions."
   ]
  },
  {
   "cell_type": "code",
   "execution_count": null,
   "id": "20834684",
   "metadata": {},
   "outputs": [],
   "source": [
    "sns.catplot(x=\"Bunny\", y=\"ppt\", kind=\"box\", data=Npholes)\n",
    "sns.catplot(x=\"Bunny\", y=\"tmax\", kind=\"box\", data=Npholes)\n",
    "sns.catplot(x=\"Bunny\", y=\"tmin\", kind=\"box\", data=Npholes)\n",
    "sns.catplot(x=\"Bunny\", y=\"rad\", kind=\"box\", data=Npholes)\n",
    "sns.catplot(x=\"Bunny\", y=\"evap\", kind=\"box\", data=Npholes)"
   ]
  },
  {
   "cell_type": "code",
   "execution_count": null,
   "id": "bcfdddf5",
   "metadata": {},
   "outputs": [],
   "source": [
    "sns.catplot(x=\"Wallnut\", y=\"ppt\", kind=\"box\", data=Npholes)\n",
    "sns.catplot(x=\"Wallnut\", y=\"tmax\", kind=\"box\", data=Npholes)\n",
    "sns.catplot(x=\"Wallnut\", y=\"tmin\", kind=\"box\", data=Npholes)\n",
    "sns.catplot(x=\"Wallnut\", y=\"rad\", kind=\"box\", data=Npholes)\n",
    "sns.catplot(x=\"Wallnut\", y=\"evap\", kind=\"box\", data=Npholes)"
   ]
  },
  {
   "cell_type": "code",
   "execution_count": null,
   "id": "e4627cd0",
   "metadata": {},
   "outputs": [],
   "source": [
    "sns.catplot(x=\"Gravy\", y=\"ppt\", kind=\"box\", data=Npholes)\n",
    "sns.catplot(x=\"Gravy\", y=\"tmax\", kind=\"box\", data=Npholes)\n",
    "sns.catplot(x=\"Gravy\", y=\"tmin\", kind=\"box\", data=Npholes)\n",
    "sns.catplot(x=\"Gravy\", y=\"rad\", kind=\"box\", data=Npholes)\n",
    "sns.catplot(x=\"Gravy\", y=\"evap\", kind=\"box\", data=Npholes)"
   ]
  },
  {
   "cell_type": "code",
   "execution_count": null,
   "id": "6a1fe0b7",
   "metadata": {},
   "outputs": [],
   "source": [
    "sns.catplot(x=\"Mouth\", y=\"ppt\", kind=\"box\", data=Npholes)\n",
    "sns.catplot(x=\"Mouth\", y=\"tmax\", kind=\"box\", data=Npholes)\n",
    "sns.catplot(x=\"Mouth\", y=\"tmin\", kind=\"box\", data=Npholes)\n",
    "sns.catplot(x=\"Mouth\", y=\"rad\", kind=\"box\", data=Npholes)\n",
    "sns.catplot(x=\"Mouth\", y=\"evap\", kind=\"box\", data=Npholes)"
   ]
  },
  {
   "cell_type": "code",
   "execution_count": null,
   "id": "9ca20c46",
   "metadata": {},
   "outputs": [],
   "source": [
    "sns.catplot(x=\"Lettuce\", y=\"ppt\", kind=\"box\", data=Npholes)\n",
    "sns.catplot(x=\"Lettuce\", y=\"tmax\", kind=\"box\", data=Npholes)\n",
    "sns.catplot(x=\"Lettuce\", y=\"tmin\", kind=\"box\", data=Npholes)\n",
    "sns.catplot(x=\"Lettuce\", y=\"rad\", kind=\"box\", data=Npholes)\n",
    "sns.catplot(x=\"Lettuce\", y=\"evap\", kind=\"box\", data=Npholes)"
   ]
  },
  {
   "cell_type": "code",
   "execution_count": null,
   "id": "5ca4ecd7",
   "metadata": {},
   "outputs": [],
   "source": [
    "Npholes.isnull().sum(axis=0)"
   ]
  },
  {
   "cell_type": "code",
   "execution_count": null,
   "id": "b50852fc",
   "metadata": {},
   "outputs": [],
   "source": [
    "import xgboost as xgb\n",
    "from sklearn.model_selection import train_test_split\n",
    "from sklearn.metrics import roc_auc_score, confusion_matrix, plot_confusion_matrix"
   ]
  },
  {
   "cell_type": "markdown",
   "id": "5f86c81c",
   "metadata": {},
   "source": [
    "# XGBoost\n",
    "\n",
    "For this model, I used the confusion matrix and the ROC-AUC metrics to check out how good each of the models applied to the potholes, the XGBoost is a scalable and accurate implementation of gradient boosting machines and it has proven to push the limits of computing power for boosted trees algorithms as it was built and developed for the sole purpose of model performance and computational speed.\n",
    "\n",
    "- Bunny Pothole\n",
    "\n",
    "The prediction for the dry condition was very high(99%), why the wet condition was just 50% predicted correctly and the ROC_AUC was 0.9429 which is high but we could get a better result if the dataset are well balanced.\n",
    "\n",
    "- Wallnut Pothole\n",
    "\n",
    "The prediction for the dry condition was very high(97%), why the wet condition was just 56% predicted correctly and the ROC_AUC was 0.9265 which is high but we could get a better result if the dataset are well balanced.\n",
    "\n",
    "- Lettuce Pothole\n",
    "\n",
    "The prediction for the dry condition was very high(90%), why the wet condition was also high, with 83% predicted correctly and the ROC_AUC was 0.9453 which is high and the only conclusion for such result would be because the count showed lettuce had a good range of dry to wet and its relatively balanced.\n",
    "\n",
    "- Mouth Pothole\n",
    "\n",
    "The prediction for the dry condition was very high(95%), why the wet condition was just 30% predicted correctly and the ROC_AUC was 0.8441 which is high but we could get a better result if the dataset are well balanced.\n",
    "\n",
    "- Gravy Pothole\n",
    "\n",
    "The prediction for the dry condition was very high(100%), why the wet condition was just 58% predicted correctly and the ROC_AUC was 0.9754 which is high but we could get a better result if the dataset are well balanced."
   ]
  },
  {
   "cell_type": "markdown",
   "id": "cefb0f11",
   "metadata": {},
   "source": [
    "# BUNNY MODEL"
   ]
  },
  {
   "cell_type": "code",
   "execution_count": null,
   "id": "8570173f",
   "metadata": {},
   "outputs": [],
   "source": [
    "from sklearn.model_selection import train_test_split\n",
    "\n",
    "X = Npholes.drop(['Bunny','Wallnut','Lettuce','Mouth','Gravy'], axis=1)\n",
    "y = Npholes['Bunny']\n",
    "X_train, X_test, y_train, y_test = train_test_split(\n",
    "    X, y, test_size=0.20, random_state=489,\n",
    "    stratify=y\n",
    ")"
   ]
  },
  {
   "cell_type": "code",
   "execution_count": null,
   "id": "5b1cba6c",
   "metadata": {},
   "outputs": [],
   "source": [
    "def get_class_props(target_series):\n",
    "    class_count = target_series.value_counts().rename({0: \"Dry\", 1: \"Wet\"})\n",
    "    ratio = round(class_count[0] / class_count[1], 2)\n",
    "    return '\\t'.join([str(x) for x in [class_count[0], class_count[1], ratio]])"
   ]
  },
  {
   "cell_type": "code",
   "execution_count": null,
   "id": "1b26e2f7",
   "metadata": {},
   "outputs": [],
   "source": [
    "print('Dataset\\t\\tDry\\tWet\\t%Wet:')\n",
    "print(f'Entire dataset:\\t{get_class_props(y)}%')\n",
    "print(f'Training:\\t{get_class_props(y_train)}%')\n",
    "print(f'Testing:\\t{get_class_props(y_test)}%')"
   ]
  },
  {
   "cell_type": "code",
   "execution_count": null,
   "id": "ee0cce07",
   "metadata": {},
   "outputs": [],
   "source": [
    "xgb_classifier = xgb.XGBClassifier(objective=\"binary:logistic\", seed=489)\n",
    "\n",
    "xgb_classifier.fit(X_train, y_train, verbose=True, early_stopping_rounds=20,\n",
    "                  eval_metric=\"auc\", eval_set=[(X_test, y_test)])"
   ]
  },
  {
   "cell_type": "code",
   "execution_count": null,
   "id": "f0c6111d",
   "metadata": {},
   "outputs": [],
   "source": [
    "xgb_classifier.set_params(**{'n_estimators': xgb_classifier.best_ntree_limit})"
   ]
  },
  {
   "cell_type": "code",
   "execution_count": null,
   "id": "6881da34",
   "metadata": {
    "scrolled": true
   },
   "outputs": [],
   "source": [
    "plot_confusion_matrix(\n",
    "    xgb_classifier,\n",
    "    X_test, y_test,\n",
    "    normalize=\"true\"\n",
    ");"
   ]
  },
  {
   "cell_type": "code",
   "execution_count": null,
   "id": "98274e67",
   "metadata": {},
   "outputs": [],
   "source": [
    "def get_roc_auc_score(classifier, X_test, y_test):\n",
    "    y_pred = classifier.predict_proba(X_test)[:, 1]\n",
    "    return roc_auc_score(y_test, y_pred)"
   ]
  },
  {
   "cell_type": "code",
   "execution_count": null,
   "id": "48c53b51",
   "metadata": {},
   "outputs": [],
   "source": [
    "base_model_roc_auc = get_roc_auc_score(xgb_classifier, X_test, y_test)\n",
    "\n",
    "print(f'ROC-AUC of base model: {base_model_roc_auc:.4f}')"
   ]
  },
  {
   "cell_type": "markdown",
   "id": "e49d6466",
   "metadata": {},
   "source": [
    "# WALLNUT MODEL"
   ]
  },
  {
   "cell_type": "code",
   "execution_count": null,
   "id": "d3f7141d",
   "metadata": {},
   "outputs": [],
   "source": [
    "from sklearn.model_selection import train_test_split\n",
    "\n",
    "X = Npholes.drop(['Wallnut','Bunny','Wallnut','Lettuce','Mouth','Gravy'], axis=1)\n",
    "y = Npholes['Wallnut']\n",
    "X_train, X_test, y_train, y_test = train_test_split(\n",
    "    X, y, test_size=0.20, random_state=489,\n",
    "    stratify=y\n",
    ")"
   ]
  },
  {
   "cell_type": "code",
   "execution_count": null,
   "id": "5d72adcb",
   "metadata": {},
   "outputs": [],
   "source": [
    "def get_class_props(target_series):\n",
    "    class_count = target_series.value_counts().rename({0: \"Dry\", 1: \"Wet\"})\n",
    "    ratio = round(class_count[0] / class_count[1], 2)\n",
    "    return '\\t'.join([str(x) for x in [class_count[0], class_count[1], ratio]])"
   ]
  },
  {
   "cell_type": "code",
   "execution_count": null,
   "id": "64f20ab6",
   "metadata": {},
   "outputs": [],
   "source": [
    "print('Dataset\\t\\tDry\\tWet\\t%Wet:')\n",
    "print(f'Entire dataset:\\t{get_class_props(y)}%')\n",
    "print(f'Training:\\t{get_class_props(y_train)}%')\n",
    "print(f'Testing:\\t{get_class_props(y_test)}%')"
   ]
  },
  {
   "cell_type": "code",
   "execution_count": null,
   "id": "31f07c51",
   "metadata": {},
   "outputs": [],
   "source": [
    "xgb_classifier = xgb.XGBClassifier(objective=\"binary:logistic\", seed=489)\n",
    "\n",
    "xgb_classifier.fit(X_train, y_train, verbose=True, early_stopping_rounds=20,\n",
    "                  eval_metric=\"auc\", eval_set=[(X_test, y_test)])"
   ]
  },
  {
   "cell_type": "code",
   "execution_count": null,
   "id": "0497e6fd",
   "metadata": {},
   "outputs": [],
   "source": [
    "xgb_classifier.set_params(**{'n_estimators': xgb_classifier.best_ntree_limit})"
   ]
  },
  {
   "cell_type": "code",
   "execution_count": null,
   "id": "26b0c819",
   "metadata": {},
   "outputs": [],
   "source": [
    "plot_confusion_matrix(\n",
    "    xgb_classifier,\n",
    "    X_test, y_test,\n",
    "    normalize=\"true\"\n",
    ");"
   ]
  },
  {
   "cell_type": "code",
   "execution_count": null,
   "id": "fa1a55b9",
   "metadata": {},
   "outputs": [],
   "source": [
    "def get_roc_auc_score(classifier, X_test, y_test):\n",
    "    y_pred = classifier.predict_proba(X_test)[:, 1]\n",
    "    return roc_auc_score(y_test, y_pred)"
   ]
  },
  {
   "cell_type": "code",
   "execution_count": null,
   "id": "f4f75f9a",
   "metadata": {},
   "outputs": [],
   "source": [
    "base_model_roc_auc = get_roc_auc_score(xgb_classifier, X_test, y_test)\n",
    "\n",
    "print(f'ROC-AUC of base model: {base_model_roc_auc:.4f}')"
   ]
  },
  {
   "cell_type": "markdown",
   "id": "4c4b2b33",
   "metadata": {},
   "source": [
    "# LETTUCE MODEL"
   ]
  },
  {
   "cell_type": "code",
   "execution_count": null,
   "id": "b2d8805f",
   "metadata": {},
   "outputs": [],
   "source": [
    "X = Npholes.drop(['Lettuce','Bunny','Wallnut','Mouth','Gravy'], axis=1)\n",
    "y = Npholes['Lettuce']\n",
    "X_train, X_test, y_train, y_test = train_test_split(\n",
    "    X, y, test_size=0.20, random_state=489,\n",
    "    stratify=y\n",
    ")\n",
    "\n",
    "def get_class_props(target_series):\n",
    "    class_count = target_series.value_counts().rename({0: \"Dry\", 1: \"Wet\"})\n",
    "    ratio = round(class_count[0] / class_count[1], 2)\n",
    "    return '\\t'.join([str(x) for x in [class_count[0], class_count[1], ratio]])\n",
    "\n",
    "print('Dataset\\t\\tDry\\tWet\\t%Wet:')\n",
    "print(f'Entire dataset:\\t{get_class_props(y)}%')\n",
    "print(f'Training:\\t{get_class_props(y_train)}%')\n",
    "print(f'Testing:\\t{get_class_props(y_test)}%')\n",
    "\n",
    "xgb_classifier = xgb.XGBClassifier(objective=\"binary:logistic\", seed=489)\n",
    "\n",
    "xgb_classifier.fit(X_train, y_train, verbose=True, early_stopping_rounds=20,\n",
    "                  eval_metric=\"auc\", eval_set=[(X_test, y_test)])\n",
    "\n",
    "xgb_classifier.set_params(**{'n_estimators': xgb_classifier.best_ntree_limit})"
   ]
  },
  {
   "cell_type": "code",
   "execution_count": null,
   "id": "58351e46",
   "metadata": {},
   "outputs": [],
   "source": []
  },
  {
   "cell_type": "code",
   "execution_count": null,
   "id": "c6e13ede",
   "metadata": {},
   "outputs": [],
   "source": [
    "plot_confusion_matrix(\n",
    "    xgb_classifier,\n",
    "    X_test, y_test,\n",
    "    normalize=\"true\"\n",
    ");"
   ]
  },
  {
   "cell_type": "code",
   "execution_count": null,
   "id": "25ff61b8",
   "metadata": {},
   "outputs": [],
   "source": [
    "def get_roc_auc_score(classifier, X_test, y_test):\n",
    "    y_pred = classifier.predict_proba(X_test)[:, 1]\n",
    "    return roc_auc_score(y_test, y_pred)"
   ]
  },
  {
   "cell_type": "code",
   "execution_count": null,
   "id": "6d2d7d22",
   "metadata": {},
   "outputs": [],
   "source": [
    "base_model_roc_auc = get_roc_auc_score(xgb_classifier, X_test, y_test)\n",
    "\n",
    "print(f'ROC-AUC of base model: {base_model_roc_auc:.4f}')"
   ]
  },
  {
   "cell_type": "markdown",
   "id": "bd27a788",
   "metadata": {},
   "source": [
    "# MOUTH MODEL"
   ]
  },
  {
   "cell_type": "code",
   "execution_count": null,
   "id": "2803cd5c",
   "metadata": {},
   "outputs": [],
   "source": [
    "X = Npholes.drop(['Mouth','Bunny','Wallnut','Lettuce','Gravy'], axis=1)\n",
    "y = Npholes['Mouth']\n",
    "X_train, X_test, y_train, y_test = train_test_split(\n",
    "    X, y, test_size=0.20, random_state=489,\n",
    "    stratify=y\n",
    ")\n",
    "\n",
    "def get_class_props(target_series):\n",
    "    class_count = target_series.value_counts().rename({0: \"Dry\", 1: \"Wet\"})\n",
    "    ratio = round(class_count[0] / class_count[1], 2)\n",
    "    return '\\t'.join([str(x) for x in [class_count[0], class_count[1], ratio]])\n",
    "\n",
    "print('Dataset\\t\\tDry\\tWet\\t%Wet:')\n",
    "print(f'Entire dataset:\\t{get_class_props(y)}%')\n",
    "print(f'Training:\\t{get_class_props(y_train)}%')\n",
    "print(f'Testing:\\t{get_class_props(y_test)}%')\n",
    "\n",
    "xgb_classifier = xgb.XGBClassifier(objective=\"binary:logistic\", seed=489)\n",
    "\n",
    "xgb_classifier.fit(X_train, y_train, verbose=True, early_stopping_rounds=20,\n",
    "                  eval_metric=\"auc\", eval_set=[(X_test, y_test)])\n",
    "\n",
    "xgb_classifier.set_params(**{'n_estimators': xgb_classifier.best_ntree_limit})"
   ]
  },
  {
   "cell_type": "code",
   "execution_count": null,
   "id": "0c78222b",
   "metadata": {},
   "outputs": [],
   "source": [
    "plot_confusion_matrix(\n",
    "    xgb_classifier,\n",
    "    X_test, y_test,\n",
    "    normalize=\"true\"\n",
    ");"
   ]
  },
  {
   "cell_type": "code",
   "execution_count": null,
   "id": "f6eea989",
   "metadata": {},
   "outputs": [],
   "source": [
    "base_model_roc_auc = get_roc_auc_score(xgb_classifier, X_test, y_test)\n",
    "\n",
    "print(f'ROC-AUC of base model: {base_model_roc_auc:.4f}')"
   ]
  },
  {
   "cell_type": "markdown",
   "id": "dacec235",
   "metadata": {},
   "source": [
    "# GRAVY MODEL"
   ]
  },
  {
   "cell_type": "code",
   "execution_count": null,
   "id": "2a20ecc9",
   "metadata": {},
   "outputs": [],
   "source": [
    "X = Npholes.drop(['Gravy','Bunny','Wallnut','Lettuce','Mouth'], axis=1)\n",
    "y = Npholes['Gravy']\n",
    "X_train, X_test, y_train, y_test = train_test_split(\n",
    "    X, y, test_size=0.20, random_state=489,\n",
    "    stratify=y\n",
    ")\n",
    "\n",
    "def get_class_props(target_series):\n",
    "    class_count = target_series.value_counts().rename({0: \"Dry\", 1: \"Wet\"})\n",
    "    ratio = round(class_count[0] / class_count[1], 2)\n",
    "    return '\\t'.join([str(x) for x in [class_count[0], class_count[1], ratio]])\n",
    "\n",
    "print('Dataset\\t\\tDry\\tWet\\t%Wet:')\n",
    "print(f'Entire dataset:\\t{get_class_props(y)}%')\n",
    "print(f'Training:\\t{get_class_props(y_train)}%')\n",
    "print(f'Testing:\\t{get_class_props(y_test)}%')\n",
    "\n",
    "xgb_classifier = xgb.XGBClassifier(objective=\"binary:logistic\", seed=489)\n",
    "\n",
    "xgb_classifier.fit(X_train, y_train, verbose=True, early_stopping_rounds=20,\n",
    "                  eval_metric=\"auc\", eval_set=[(X_test, y_test)])\n",
    "\n",
    "xgb_classifier.set_params(**{'n_estimators': xgb_classifier.best_ntree_limit})"
   ]
  },
  {
   "cell_type": "code",
   "execution_count": null,
   "id": "783cbb7f",
   "metadata": {},
   "outputs": [],
   "source": [
    "plot_confusion_matrix(\n",
    "    xgb_classifier,\n",
    "    X_test, y_test,\n",
    "    normalize=\"true\"\n",
    ");"
   ]
  },
  {
   "cell_type": "code",
   "execution_count": null,
   "id": "5ab364be",
   "metadata": {},
   "outputs": [],
   "source": [
    "base_model_roc_auc = get_roc_auc_score(xgb_classifier, X_test, y_test)\n",
    "\n",
    "print(f'ROC-AUC of base model: {base_model_roc_auc:.4f}')"
   ]
  },
  {
   "cell_type": "code",
   "execution_count": null,
   "id": "d06ab8f1",
   "metadata": {},
   "outputs": [],
   "source": [
    "Npholes"
   ]
  },
  {
   "cell_type": "code",
   "execution_count": null,
   "id": "9a69ca6f",
   "metadata": {},
   "outputs": [],
   "source": [
    "Npholes['Bunny'].replace([\"Dry\",\"Wet\"],[0,1], inplace=True)\n",
    "Npholes['Wallnut'].replace([\"Dry\",\"Wet\"],[0,1], inplace=True)\n",
    "Npholes['Mouth'].replace([\"Dry\",\"Wet\"],[0,1], inplace=True)\n",
    "Npholes['Gravy'].replace([\"Dry\",\"Wet\"],[0,1], inplace=True)\n",
    "Npholes['Lettuce'].replace([\"Dry\",\"Wet\"],[0,1], inplace=True)"
   ]
  },
  {
   "cell_type": "code",
   "execution_count": null,
   "id": "70693af1",
   "metadata": {},
   "outputs": [],
   "source": [
    "Npholes"
   ]
  },
  {
   "cell_type": "markdown",
   "id": "f3b348c9",
   "metadata": {},
   "source": [
    "# Random Forest Classifier\n",
    "\n",
    "For the random forest classifier showed lower level of accuracy compared to the XGBoost, however I used it on all the potholes after I had converted them to values 0 and 1 respectively.\n",
    "\n",
    "For the Bunny potholes, all the dry condition were correct why the wet is not accurate. This was also the case for Wallnut, Mouth, and Gravy.\n",
    "\n",
    "The Lettuce is the only potholes that showed some level of variation in the output of the prediction, there are still 16 predictions that were correct while the prediction for the wet condition. The dry condition was also accurate missing just one prediction out of the accuracy."
   ]
  },
  {
   "cell_type": "code",
   "execution_count": null,
   "id": "423ffe26",
   "metadata": {},
   "outputs": [],
   "source": [
    "y = Npholes['Bunny']\n",
    "X = Npholes.drop(['Bunny','Wallnut','Mouth','Gravy','Lettuce','Year','Month','Day'], axis =1)"
   ]
  },
  {
   "cell_type": "code",
   "execution_count": null,
   "id": "4c617135",
   "metadata": {},
   "outputs": [],
   "source": [
    "X.shape"
   ]
  },
  {
   "cell_type": "code",
   "execution_count": null,
   "id": "e894b583",
   "metadata": {},
   "outputs": [],
   "source": [
    "y.shape"
   ]
  },
  {
   "cell_type": "code",
   "execution_count": null,
   "id": "7a5e00c9",
   "metadata": {},
   "outputs": [],
   "source": [
    "X_train, X_test, Y_train, Y_test = train_test_split(X, y, test_size =0.25, random_state = 0)"
   ]
  },
  {
   "cell_type": "code",
   "execution_count": null,
   "id": "94519ed6",
   "metadata": {},
   "outputs": [],
   "source": [
    "print(X_train.shape, Y_train.shape)"
   ]
  },
  {
   "cell_type": "code",
   "execution_count": null,
   "id": "a086304f",
   "metadata": {},
   "outputs": [],
   "source": [
    "from sklearn.ensemble import RandomForestClassifier\n",
    "reg = RandomForestClassifier(max_depth=2, random_state=0)"
   ]
  },
  {
   "cell_type": "code",
   "execution_count": null,
   "id": "196e6561",
   "metadata": {},
   "outputs": [],
   "source": [
    "reg.fit(X_train, Y_train)"
   ]
  },
  {
   "cell_type": "code",
   "execution_count": null,
   "id": "9deb6fd6",
   "metadata": {},
   "outputs": [],
   "source": [
    "Y_train = np.ravel(Y_train)\n",
    "reg.fit(X_train, Y_train)"
   ]
  },
  {
   "cell_type": "code",
   "execution_count": null,
   "id": "b13cc37d",
   "metadata": {},
   "outputs": [],
   "source": [
    "y_pred = reg.predict(X_test)"
   ]
  },
  {
   "cell_type": "code",
   "execution_count": null,
   "id": "017991bc",
   "metadata": {},
   "outputs": [],
   "source": [
    "from sklearn.metrics import confusion_matrix, classification_report\n",
    "cm0 = confusion_matrix(Y_test, y_pred)"
   ]
  },
  {
   "cell_type": "code",
   "execution_count": null,
   "id": "cb8fd874",
   "metadata": {},
   "outputs": [],
   "source": [
    "from IPython.display import Image, display\n",
    "\n",
    "fig, ax = plt.subplots(figsize=(5, 5))\n",
    "ax.matshow(cm0, cmap=plt.cm.Reds, alpha=0.3)\n",
    "for i in range(cm0.shape[0]):\n",
    "     for j in range(cm0.shape[1]):\n",
    "         ax.text(x=j, y=i,\n",
    "                s=cm0[i, j], \n",
    "                va='center', ha='center')\n",
    "plt.xlabel('Predicted Values', )\n",
    "plt.ylabel('Actual Values')\n",
    "plt.show()\n",
    "print(classification_report(Y_test, y_pred))"
   ]
  },
  {
   "cell_type": "code",
   "execution_count": null,
   "id": "f830d72f",
   "metadata": {},
   "outputs": [],
   "source": [
    "feat_importances = pd.Series(reg.feature_importances_, index=X.columns)\n",
    "feat_importances.nlargest(9).plot(kind='barh')\n"
   ]
  },
  {
   "cell_type": "code",
   "execution_count": null,
   "id": "e674d006",
   "metadata": {},
   "outputs": [],
   "source": [
    "def phole(Y):\n",
    "\n",
    "    X_train, X_test, Y_train, Y_test = train_test_split(X, y, test_size =0.25, random_state = 0)\n",
    "    print(X_train.shape, Y_train.shape)\n",
    "    reg = RandomForestClassifier(max_depth=2, random_state=0)\n",
    "    reg.fit(X_train, Y_train)\n",
    "    Y_train = np.ravel(Y_train)\n",
    "    reg.fit(X_train, Y_train)\n",
    "    y_pred = reg.predict(X_test)\n",
    "    from sklearn.metrics import confusion_matrix, classification_report\n",
    "    cm0 = confusion_matrix(Y_test, y_pred)\n",
    "    from IPython.display import Image, display\n",
    "\n",
    "    fig, ax = plt.subplots(figsize=(5, 5))\n",
    "    ax.matshow(cm0, cmap=plt.cm.Reds, alpha=0.3)\n",
    "    for i in range(cm0.shape[0]):\n",
    "         for j in range(cm0.shape[1]):\n",
    "             ax.text(x=j, y=i,\n",
    "                    s=cm0[i, j], \n",
    "                    va='center', ha='center')\n",
    "    plt.xlabel('Predicted Values', )\n",
    "    plt.ylabel('Actual Values')\n",
    "    plt.show()\n",
    "    print(classification_report(Y_test, y_pred))"
   ]
  },
  {
   "cell_type": "code",
   "execution_count": null,
   "id": "2bd00d28",
   "metadata": {},
   "outputs": [],
   "source": [
    "y = Npholes['Wallnut']"
   ]
  },
  {
   "cell_type": "code",
   "execution_count": null,
   "id": "5618f557",
   "metadata": {},
   "outputs": [],
   "source": [
    "phole(y)"
   ]
  },
  {
   "cell_type": "code",
   "execution_count": null,
   "id": "0d5c7eb8",
   "metadata": {},
   "outputs": [],
   "source": [
    "feat_importances = pd.Series(reg.feature_importances_, index=X.columns)\n",
    "feat_importances.nlargest(9).plot(kind='barh')"
   ]
  },
  {
   "cell_type": "code",
   "execution_count": null,
   "id": "0dbe8dd7",
   "metadata": {},
   "outputs": [],
   "source": [
    "y = Npholes['Mouth']\n",
    "phole(y)"
   ]
  },
  {
   "cell_type": "code",
   "execution_count": null,
   "id": "437e55e3",
   "metadata": {},
   "outputs": [],
   "source": [
    "y = Npholes['Gravy']\n",
    "phole(y)"
   ]
  },
  {
   "cell_type": "code",
   "execution_count": null,
   "id": "dc2a75fd",
   "metadata": {},
   "outputs": [],
   "source": [
    "feat_importances = pd.Series(reg.feature_importances_, index=X.columns)\n",
    "feat_importances.nlargest(9).plot(kind='barh')"
   ]
  },
  {
   "cell_type": "code",
   "execution_count": null,
   "id": "f8dfb863",
   "metadata": {},
   "outputs": [],
   "source": [
    "y = Npholes['Lettuce']\n",
    "phole(y)"
   ]
  },
  {
   "cell_type": "code",
   "execution_count": null,
   "id": "c57cc856",
   "metadata": {},
   "outputs": [],
   "source": [
    "from sklearn.metrics import explained_variance_score, max_error, mean_absolute_error, mean_squared_error, r2_score"
   ]
  },
  {
   "cell_type": "code",
   "execution_count": null,
   "id": "c52783d0",
   "metadata": {},
   "outputs": [],
   "source": [
    "explained_variance_score(Y_test, y_pred)"
   ]
  },
  {
   "cell_type": "code",
   "execution_count": null,
   "id": "8e4dcb94",
   "metadata": {},
   "outputs": [],
   "source": [
    "max_error(Y_test, y_pred)"
   ]
  },
  {
   "cell_type": "code",
   "execution_count": null,
   "id": "f2ffa67b",
   "metadata": {},
   "outputs": [],
   "source": [
    "max_error(Y_test, y_pred)"
   ]
  },
  {
   "cell_type": "code",
   "execution_count": null,
   "id": "5b5ce7f8",
   "metadata": {},
   "outputs": [],
   "source": [
    "r2_score(Y_test, y_pred)"
   ]
  },
  {
   "cell_type": "code",
   "execution_count": null,
   "id": "4ee9caa2",
   "metadata": {},
   "outputs": [],
   "source": [
    "mean_squared_error(Y_test, y_pred)"
   ]
  },
  {
   "cell_type": "code",
   "execution_count": null,
   "id": "660917aa",
   "metadata": {},
   "outputs": [],
   "source": []
  },
  {
   "cell_type": "code",
   "execution_count": null,
   "id": "92b4bcb5",
   "metadata": {},
   "outputs": [],
   "source": [
    "Bpholes = Apholes.copy()\n",
    "Bpholes['Bunny'] = pd.cut(Bpholes.Bunny, bins=[-2, 0,50], labels =['Dry','Wet'])\n",
    "Bpholes['Mouth'] = pd.cut(Bpholes.Mouth, bins=[-2, 0,50], labels =['Dry','Wet'])\n",
    "Bpholes['Wallnut'] = pd.cut(Bpholes.Wallnut, bins=[-2, 0,50], labels =['Dry','Wet'])\n",
    "Bpholes['Gravy'] = pd.cut(Bpholes.Gravy, bins=[-2, 0,50], labels =['Dry','Wet'])\n",
    "Bpholes['Lettuce'] = pd.cut(Bpholes.Lettuce, bins=[-2, 0,50], labels =['Dry','Wet'])\n",
    "Bpholes.to_csv('potholes_dry_and_wet.csv')"
   ]
  },
  {
   "cell_type": "code",
   "execution_count": null,
   "id": "bc12d905",
   "metadata": {},
   "outputs": [],
   "source": []
  }
 ],
 "metadata": {
  "kernelspec": {
   "display_name": "Python 3",
   "language": "python",
   "name": "python3"
  },
  "language_info": {
   "codemirror_mode": {
    "name": "ipython",
    "version": 3
   },
   "file_extension": ".py",
   "mimetype": "text/x-python",
   "name": "python",
   "nbconvert_exporter": "python",
   "pygments_lexer": "ipython3",
   "version": "3.8.8"
  }
 },
 "nbformat": 4,
 "nbformat_minor": 5
}
